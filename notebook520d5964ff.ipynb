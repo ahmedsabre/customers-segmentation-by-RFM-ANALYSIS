{
 "cells": [
  {
   "cell_type": "code",
   "execution_count": 1,
   "id": "83f7faef",
   "metadata": {
    "_cell_guid": "b1076dfc-b9ad-4769-8c92-a6c4dae69d19",
    "_uuid": "8f2839f25d086af736a60e9eeb907d3b93b6e0e5",
    "execution": {
     "iopub.execute_input": "2023-01-12T10:28:42.301864Z",
     "iopub.status.busy": "2023-01-12T10:28:42.301316Z",
     "iopub.status.idle": "2023-01-12T10:28:42.338172Z",
     "shell.execute_reply": "2023-01-12T10:28:42.336206Z"
    },
    "papermill": {
     "duration": 0.059719,
     "end_time": "2023-01-12T10:28:42.341175",
     "exception": false,
     "start_time": "2023-01-12T10:28:42.281456",
     "status": "completed"
    },
    "tags": []
   },
   "outputs": [
    {
     "name": "stdout",
     "output_type": "stream",
     "text": [
      "/kaggle/input/online-retail/Online Retail.xlsx\n"
     ]
    }
   ],
   "source": [
    "# This Python 3 environment comes with many helpful analytics libraries installed\n",
    "# It is defined by the kaggle/python Docker image: https://github.com/kaggle/docker-python\n",
    "# For example, here's several helpful packages to load\n",
    "\n",
    "import numpy as np # linear algebra\n",
    "import pandas as pd # data processing, CSV file I/O (e.g. pd.read_csv)\n",
    "\n",
    "# Input data files are available in the read-only \"../input/\" directory\n",
    "# For example, running this (by clicking run or pressing Shift+Enter) will list all files under the input directory\n",
    "\n",
    "import os\n",
    "for dirname, _, filenames in os.walk('/kaggle/input'):\n",
    "    for filename in filenames:\n",
    "        print(os.path.join(dirname, filename))\n",
    "\n",
    "# You can write up to 20GB to the current directory (/kaggle/working/) that gets preserved as output when you create a version using \"Save & Run All\" \n",
    "# You can also write temporary files to /kaggle/temp/, but they won't be saved outside of the current session"
   ]
  },
  {
   "cell_type": "code",
   "execution_count": 2,
   "id": "aecc0a2a",
   "metadata": {
    "execution": {
     "iopub.execute_input": "2023-01-12T10:28:42.371321Z",
     "iopub.status.busy": "2023-01-12T10:28:42.370937Z",
     "iopub.status.idle": "2023-01-12T10:28:44.523942Z",
     "shell.execute_reply": "2023-01-12T10:28:44.522620Z"
    },
    "papermill": {
     "duration": 2.172262,
     "end_time": "2023-01-12T10:28:44.526670",
     "exception": false,
     "start_time": "2023-01-12T10:28:42.354408",
     "status": "completed"
    },
    "tags": []
   },
   "outputs": [],
   "source": [
    "import pandas as pd\n",
    "import numpy as np\n",
    "import plotly.express as px\n",
    "import seaborn as sns\n",
    "import matplotlib.pyplot as plt\n",
    "%matplotlib inline\n",
    "import warnings\n",
    "warnings.filterwarnings(\"ignore\")"
   ]
  },
  {
   "cell_type": "markdown",
   "id": "ac6483a6",
   "metadata": {
    "papermill": {
     "duration": 0.012851,
     "end_time": "2023-01-12T10:28:44.551753",
     "exception": false,
     "start_time": "2023-01-12T10:28:44.538902",
     "status": "completed"
    },
    "tags": []
   },
   "source": [
    "#  CUSTOMERS SEGMENTATION IN MARKETING  USING RFM ANALYSIS"
   ]
  },
  {
   "cell_type": "markdown",
   "id": "ac3d6db4",
   "metadata": {
    "papermill": {
     "duration": 0.015115,
     "end_time": "2023-01-12T10:28:44.586299",
     "exception": false,
     "start_time": "2023-01-12T10:28:44.571184",
     "status": "completed"
    },
    "tags": []
   },
   "source": [
    "# Recency, frequency, monetary (RFM segmentation)\n",
    "**RFM is a method used to identify and analyze customers based on the Recency of their last purchase, the Frequency of purchases, and the Monetary amount spent**"
   ]
  },
  {
   "cell_type": "markdown",
   "id": "3a77abe1",
   "metadata": {
    "papermill": {
     "duration": 0.012796,
     "end_time": "2023-01-12T10:28:44.614326",
     "exception": false,
     "start_time": "2023-01-12T10:28:44.601530",
     "status": "completed"
    },
    "tags": []
   },
   "source": [
    "# important of customer segmentation:\n",
    "**Identify the best customers and focus on offering them the best treatment\n",
    "Improve product assortment based on your top customers’ preferences\n",
    "Create better communication,offers,loyalty programs,experiences,and products for your power customers\n",
    "Increase customer engagement by leveraging the best-performing channels\n",
    "Improve and prioritize customer service team’s activity\n",
    "Create lookalike audiences based on your top customers and improve the results of acquisition campaigns.**"
   ]
  },
  {
   "cell_type": "code",
   "execution_count": 3,
   "id": "abcb50e4",
   "metadata": {
    "execution": {
     "iopub.execute_input": "2023-01-12T10:28:44.640033Z",
     "iopub.status.busy": "2023-01-12T10:28:44.639064Z",
     "iopub.status.idle": "2023-01-12T10:30:05.145664Z",
     "shell.execute_reply": "2023-01-12T10:30:05.143830Z"
    },
    "papermill": {
     "duration": 80.533728,
     "end_time": "2023-01-12T10:30:05.159860",
     "exception": false,
     "start_time": "2023-01-12T10:28:44.626132",
     "status": "completed"
    },
    "tags": []
   },
   "outputs": [
    {
     "data": {
      "text/html": [
       "<div>\n",
       "<style scoped>\n",
       "    .dataframe tbody tr th:only-of-type {\n",
       "        vertical-align: middle;\n",
       "    }\n",
       "\n",
       "    .dataframe tbody tr th {\n",
       "        vertical-align: top;\n",
       "    }\n",
       "\n",
       "    .dataframe thead th {\n",
       "        text-align: right;\n",
       "    }\n",
       "</style>\n",
       "<table border=\"1\" class=\"dataframe\">\n",
       "  <thead>\n",
       "    <tr style=\"text-align: right;\">\n",
       "      <th></th>\n",
       "      <th>InvoiceNo</th>\n",
       "      <th>StockCode</th>\n",
       "      <th>Description</th>\n",
       "      <th>Quantity</th>\n",
       "      <th>InvoiceDate</th>\n",
       "      <th>UnitPrice</th>\n",
       "      <th>CustomerID</th>\n",
       "      <th>Country</th>\n",
       "    </tr>\n",
       "  </thead>\n",
       "  <tbody>\n",
       "    <tr>\n",
       "      <th>0</th>\n",
       "      <td>536365</td>\n",
       "      <td>85123A</td>\n",
       "      <td>WHITE HANGING HEART T-LIGHT HOLDER</td>\n",
       "      <td>6</td>\n",
       "      <td>2010-12-01 08:26:00</td>\n",
       "      <td>2.55</td>\n",
       "      <td>17850.0</td>\n",
       "      <td>United Kingdom</td>\n",
       "    </tr>\n",
       "    <tr>\n",
       "      <th>1</th>\n",
       "      <td>536365</td>\n",
       "      <td>71053</td>\n",
       "      <td>WHITE METAL LANTERN</td>\n",
       "      <td>6</td>\n",
       "      <td>2010-12-01 08:26:00</td>\n",
       "      <td>3.39</td>\n",
       "      <td>17850.0</td>\n",
       "      <td>United Kingdom</td>\n",
       "    </tr>\n",
       "    <tr>\n",
       "      <th>2</th>\n",
       "      <td>536365</td>\n",
       "      <td>84406B</td>\n",
       "      <td>CREAM CUPID HEARTS COAT HANGER</td>\n",
       "      <td>8</td>\n",
       "      <td>2010-12-01 08:26:00</td>\n",
       "      <td>2.75</td>\n",
       "      <td>17850.0</td>\n",
       "      <td>United Kingdom</td>\n",
       "    </tr>\n",
       "    <tr>\n",
       "      <th>3</th>\n",
       "      <td>536365</td>\n",
       "      <td>84029G</td>\n",
       "      <td>KNITTED UNION FLAG HOT WATER BOTTLE</td>\n",
       "      <td>6</td>\n",
       "      <td>2010-12-01 08:26:00</td>\n",
       "      <td>3.39</td>\n",
       "      <td>17850.0</td>\n",
       "      <td>United Kingdom</td>\n",
       "    </tr>\n",
       "    <tr>\n",
       "      <th>4</th>\n",
       "      <td>536365</td>\n",
       "      <td>84029E</td>\n",
       "      <td>RED WOOLLY HOTTIE WHITE HEART.</td>\n",
       "      <td>6</td>\n",
       "      <td>2010-12-01 08:26:00</td>\n",
       "      <td>3.39</td>\n",
       "      <td>17850.0</td>\n",
       "      <td>United Kingdom</td>\n",
       "    </tr>\n",
       "  </tbody>\n",
       "</table>\n",
       "</div>"
      ],
      "text/plain": [
       "  InvoiceNo StockCode                          Description  Quantity  \\\n",
       "0    536365    85123A   WHITE HANGING HEART T-LIGHT HOLDER         6   \n",
       "1    536365     71053                  WHITE METAL LANTERN         6   \n",
       "2    536365    84406B       CREAM CUPID HEARTS COAT HANGER         8   \n",
       "3    536365    84029G  KNITTED UNION FLAG HOT WATER BOTTLE         6   \n",
       "4    536365    84029E       RED WOOLLY HOTTIE WHITE HEART.         6   \n",
       "\n",
       "          InvoiceDate  UnitPrice  CustomerID         Country  \n",
       "0 2010-12-01 08:26:00       2.55     17850.0  United Kingdom  \n",
       "1 2010-12-01 08:26:00       3.39     17850.0  United Kingdom  \n",
       "2 2010-12-01 08:26:00       2.75     17850.0  United Kingdom  \n",
       "3 2010-12-01 08:26:00       3.39     17850.0  United Kingdom  \n",
       "4 2010-12-01 08:26:00       3.39     17850.0  United Kingdom  "
      ]
     },
     "execution_count": 3,
     "metadata": {},
     "output_type": "execute_result"
    }
   ],
   "source": [
    "df=pd.read_excel('/kaggle/input/online-retail/Online Retail.xlsx')\n",
    "df.head()"
   ]
  },
  {
   "cell_type": "markdown",
   "id": "55e3e3e3",
   "metadata": {
    "papermill": {
     "duration": 0.013014,
     "end_time": "2023-01-12T10:30:05.185938",
     "exception": false,
     "start_time": "2023-01-12T10:30:05.172924",
     "status": "completed"
    },
    "tags": []
   },
   "source": [
    "# making total prices column that present the total prices for every description"
   ]
  },
  {
   "cell_type": "code",
   "execution_count": 4,
   "id": "b799b671",
   "metadata": {
    "execution": {
     "iopub.execute_input": "2023-01-12T10:30:05.213648Z",
     "iopub.status.busy": "2023-01-12T10:30:05.212899Z",
     "iopub.status.idle": "2023-01-12T10:30:05.225772Z",
     "shell.execute_reply": "2023-01-12T10:30:05.224545Z"
    },
    "papermill": {
     "duration": 0.030324,
     "end_time": "2023-01-12T10:30:05.228572",
     "exception": false,
     "start_time": "2023-01-12T10:30:05.198248",
     "status": "completed"
    },
    "tags": []
   },
   "outputs": [],
   "source": [
    "df['TotalPrice']=df['Quantity']*df['UnitPrice']"
   ]
  },
  {
   "cell_type": "code",
   "execution_count": 5,
   "id": "16e2b75b",
   "metadata": {
    "execution": {
     "iopub.execute_input": "2023-01-12T10:30:05.255672Z",
     "iopub.status.busy": "2023-01-12T10:30:05.255186Z",
     "iopub.status.idle": "2023-01-12T10:30:05.273427Z",
     "shell.execute_reply": "2023-01-12T10:30:05.272239Z"
    },
    "papermill": {
     "duration": 0.035228,
     "end_time": "2023-01-12T10:30:05.276126",
     "exception": false,
     "start_time": "2023-01-12T10:30:05.240898",
     "status": "completed"
    },
    "tags": []
   },
   "outputs": [
    {
     "data": {
      "text/html": [
       "<div>\n",
       "<style scoped>\n",
       "    .dataframe tbody tr th:only-of-type {\n",
       "        vertical-align: middle;\n",
       "    }\n",
       "\n",
       "    .dataframe tbody tr th {\n",
       "        vertical-align: top;\n",
       "    }\n",
       "\n",
       "    .dataframe thead th {\n",
       "        text-align: right;\n",
       "    }\n",
       "</style>\n",
       "<table border=\"1\" class=\"dataframe\">\n",
       "  <thead>\n",
       "    <tr style=\"text-align: right;\">\n",
       "      <th></th>\n",
       "      <th>InvoiceNo</th>\n",
       "      <th>StockCode</th>\n",
       "      <th>Description</th>\n",
       "      <th>Quantity</th>\n",
       "      <th>InvoiceDate</th>\n",
       "      <th>UnitPrice</th>\n",
       "      <th>CustomerID</th>\n",
       "      <th>Country</th>\n",
       "      <th>TotalPrice</th>\n",
       "    </tr>\n",
       "  </thead>\n",
       "  <tbody>\n",
       "    <tr>\n",
       "      <th>0</th>\n",
       "      <td>536365</td>\n",
       "      <td>85123A</td>\n",
       "      <td>WHITE HANGING HEART T-LIGHT HOLDER</td>\n",
       "      <td>6</td>\n",
       "      <td>2010-12-01 08:26:00</td>\n",
       "      <td>2.55</td>\n",
       "      <td>17850.0</td>\n",
       "      <td>United Kingdom</td>\n",
       "      <td>15.30</td>\n",
       "    </tr>\n",
       "    <tr>\n",
       "      <th>1</th>\n",
       "      <td>536365</td>\n",
       "      <td>71053</td>\n",
       "      <td>WHITE METAL LANTERN</td>\n",
       "      <td>6</td>\n",
       "      <td>2010-12-01 08:26:00</td>\n",
       "      <td>3.39</td>\n",
       "      <td>17850.0</td>\n",
       "      <td>United Kingdom</td>\n",
       "      <td>20.34</td>\n",
       "    </tr>\n",
       "    <tr>\n",
       "      <th>2</th>\n",
       "      <td>536365</td>\n",
       "      <td>84406B</td>\n",
       "      <td>CREAM CUPID HEARTS COAT HANGER</td>\n",
       "      <td>8</td>\n",
       "      <td>2010-12-01 08:26:00</td>\n",
       "      <td>2.75</td>\n",
       "      <td>17850.0</td>\n",
       "      <td>United Kingdom</td>\n",
       "      <td>22.00</td>\n",
       "    </tr>\n",
       "  </tbody>\n",
       "</table>\n",
       "</div>"
      ],
      "text/plain": [
       "  InvoiceNo StockCode                         Description  Quantity  \\\n",
       "0    536365    85123A  WHITE HANGING HEART T-LIGHT HOLDER         6   \n",
       "1    536365     71053                 WHITE METAL LANTERN         6   \n",
       "2    536365    84406B      CREAM CUPID HEARTS COAT HANGER         8   \n",
       "\n",
       "          InvoiceDate  UnitPrice  CustomerID         Country  TotalPrice  \n",
       "0 2010-12-01 08:26:00       2.55     17850.0  United Kingdom       15.30  \n",
       "1 2010-12-01 08:26:00       3.39     17850.0  United Kingdom       20.34  \n",
       "2 2010-12-01 08:26:00       2.75     17850.0  United Kingdom       22.00  "
      ]
     },
     "execution_count": 5,
     "metadata": {},
     "output_type": "execute_result"
    }
   ],
   "source": [
    "df.head(3)"
   ]
  },
  {
   "cell_type": "code",
   "execution_count": 6,
   "id": "dfd9bd8f",
   "metadata": {
    "execution": {
     "iopub.execute_input": "2023-01-12T10:30:05.305515Z",
     "iopub.status.busy": "2023-01-12T10:30:05.305091Z",
     "iopub.status.idle": "2023-01-12T10:30:05.355148Z",
     "shell.execute_reply": "2023-01-12T10:30:05.353734Z"
    },
    "papermill": {
     "duration": 0.069204,
     "end_time": "2023-01-12T10:30:05.358118",
     "exception": false,
     "start_time": "2023-01-12T10:30:05.288914",
     "status": "completed"
    },
    "tags": []
   },
   "outputs": [],
   "source": [
    "df.drop('StockCode',axis=1,inplace=True)"
   ]
  },
  {
   "cell_type": "code",
   "execution_count": 7,
   "id": "61e8acc0",
   "metadata": {
    "execution": {
     "iopub.execute_input": "2023-01-12T10:30:05.387180Z",
     "iopub.status.busy": "2023-01-12T10:30:05.386754Z",
     "iopub.status.idle": "2023-01-12T10:30:05.495464Z",
     "shell.execute_reply": "2023-01-12T10:30:05.493232Z"
    },
    "papermill": {
     "duration": 0.127871,
     "end_time": "2023-01-12T10:30:05.499998",
     "exception": false,
     "start_time": "2023-01-12T10:30:05.372127",
     "status": "completed"
    },
    "tags": []
   },
   "outputs": [
    {
     "name": "stdout",
     "output_type": "stream",
     "text": [
      "<class 'pandas.core.frame.DataFrame'>\n",
      "RangeIndex: 541909 entries, 0 to 541908\n",
      "Data columns (total 8 columns):\n",
      " #   Column       Non-Null Count   Dtype         \n",
      "---  ------       --------------   -----         \n",
      " 0   InvoiceNo    541909 non-null  object        \n",
      " 1   Description  540455 non-null  object        \n",
      " 2   Quantity     541909 non-null  int64         \n",
      " 3   InvoiceDate  541909 non-null  datetime64[ns]\n",
      " 4   UnitPrice    541909 non-null  float64       \n",
      " 5   CustomerID   406829 non-null  float64       \n",
      " 6   Country      541909 non-null  object        \n",
      " 7   TotalPrice   541909 non-null  float64       \n",
      "dtypes: datetime64[ns](1), float64(3), int64(1), object(3)\n",
      "memory usage: 33.1+ MB\n"
     ]
    }
   ],
   "source": [
    "df.info()"
   ]
  },
  {
   "cell_type": "code",
   "execution_count": 8,
   "id": "3378cd94",
   "metadata": {
    "execution": {
     "iopub.execute_input": "2023-01-12T10:30:05.530027Z",
     "iopub.status.busy": "2023-01-12T10:30:05.529569Z",
     "iopub.status.idle": "2023-01-12T10:30:05.584212Z",
     "shell.execute_reply": "2023-01-12T10:30:05.582580Z"
    },
    "papermill": {
     "duration": 0.071903,
     "end_time": "2023-01-12T10:30:05.586880",
     "exception": false,
     "start_time": "2023-01-12T10:30:05.514977",
     "status": "completed"
    },
    "tags": []
   },
   "outputs": [
    {
     "data": {
      "text/plain": [
       "573585     1114\n",
       "581219      749\n",
       "581492      731\n",
       "580729      721\n",
       "558475      705\n",
       "           ... \n",
       "554023        1\n",
       "554022        1\n",
       "554021        1\n",
       "554020        1\n",
       "C558901       1\n",
       "Name: InvoiceNo, Length: 25900, dtype: int64"
      ]
     },
     "execution_count": 8,
     "metadata": {},
     "output_type": "execute_result"
    }
   ],
   "source": [
    "df.InvoiceNo.value_counts()"
   ]
  },
  {
   "cell_type": "code",
   "execution_count": 9,
   "id": "a3c8d7f9",
   "metadata": {
    "execution": {
     "iopub.execute_input": "2023-01-12T10:30:05.614154Z",
     "iopub.status.busy": "2023-01-12T10:30:05.613731Z",
     "iopub.status.idle": "2023-01-12T10:30:05.747651Z",
     "shell.execute_reply": "2023-01-12T10:30:05.746476Z"
    },
    "papermill": {
     "duration": 0.15106,
     "end_time": "2023-01-12T10:30:05.750450",
     "exception": false,
     "start_time": "2023-01-12T10:30:05.599390",
     "status": "completed"
    },
    "tags": []
   },
   "outputs": [
    {
     "data": {
      "text/html": [
       "<div>\n",
       "<style scoped>\n",
       "    .dataframe tbody tr th:only-of-type {\n",
       "        vertical-align: middle;\n",
       "    }\n",
       "\n",
       "    .dataframe tbody tr th {\n",
       "        vertical-align: top;\n",
       "    }\n",
       "\n",
       "    .dataframe thead th {\n",
       "        text-align: right;\n",
       "    }\n",
       "</style>\n",
       "<table border=\"1\" class=\"dataframe\">\n",
       "  <thead>\n",
       "    <tr style=\"text-align: right;\">\n",
       "      <th></th>\n",
       "      <th>Quantity</th>\n",
       "      <th>UnitPrice</th>\n",
       "      <th>CustomerID</th>\n",
       "      <th>TotalPrice</th>\n",
       "    </tr>\n",
       "  </thead>\n",
       "  <tbody>\n",
       "    <tr>\n",
       "      <th>count</th>\n",
       "      <td>541909.00</td>\n",
       "      <td>541909.00</td>\n",
       "      <td>406829.00</td>\n",
       "      <td>541909.00</td>\n",
       "    </tr>\n",
       "    <tr>\n",
       "      <th>mean</th>\n",
       "      <td>9.55</td>\n",
       "      <td>4.61</td>\n",
       "      <td>15287.69</td>\n",
       "      <td>17.99</td>\n",
       "    </tr>\n",
       "    <tr>\n",
       "      <th>std</th>\n",
       "      <td>218.08</td>\n",
       "      <td>96.76</td>\n",
       "      <td>1713.60</td>\n",
       "      <td>378.81</td>\n",
       "    </tr>\n",
       "    <tr>\n",
       "      <th>min</th>\n",
       "      <td>-80995.00</td>\n",
       "      <td>-11062.06</td>\n",
       "      <td>12346.00</td>\n",
       "      <td>-168469.60</td>\n",
       "    </tr>\n",
       "    <tr>\n",
       "      <th>25%</th>\n",
       "      <td>1.00</td>\n",
       "      <td>1.25</td>\n",
       "      <td>13953.00</td>\n",
       "      <td>3.40</td>\n",
       "    </tr>\n",
       "    <tr>\n",
       "      <th>50%</th>\n",
       "      <td>3.00</td>\n",
       "      <td>2.08</td>\n",
       "      <td>15152.00</td>\n",
       "      <td>9.75</td>\n",
       "    </tr>\n",
       "    <tr>\n",
       "      <th>75%</th>\n",
       "      <td>10.00</td>\n",
       "      <td>4.13</td>\n",
       "      <td>16791.00</td>\n",
       "      <td>17.40</td>\n",
       "    </tr>\n",
       "    <tr>\n",
       "      <th>max</th>\n",
       "      <td>80995.00</td>\n",
       "      <td>38970.00</td>\n",
       "      <td>18287.00</td>\n",
       "      <td>168469.60</td>\n",
       "    </tr>\n",
       "  </tbody>\n",
       "</table>\n",
       "</div>"
      ],
      "text/plain": [
       "        Quantity  UnitPrice  CustomerID  TotalPrice\n",
       "count  541909.00  541909.00   406829.00   541909.00\n",
       "mean        9.55       4.61    15287.69       17.99\n",
       "std       218.08      96.76     1713.60      378.81\n",
       "min    -80995.00  -11062.06    12346.00  -168469.60\n",
       "25%         1.00       1.25    13953.00        3.40\n",
       "50%         3.00       2.08    15152.00        9.75\n",
       "75%        10.00       4.13    16791.00       17.40\n",
       "max     80995.00   38970.00    18287.00   168469.60"
      ]
     },
     "execution_count": 9,
     "metadata": {},
     "output_type": "execute_result"
    }
   ],
   "source": [
    "df.describe().round(2)"
   ]
  },
  {
   "cell_type": "code",
   "execution_count": 10,
   "id": "74c77fda",
   "metadata": {
    "execution": {
     "iopub.execute_input": "2023-01-12T10:30:05.780342Z",
     "iopub.status.busy": "2023-01-12T10:30:05.779914Z",
     "iopub.status.idle": "2023-01-12T10:30:05.820743Z",
     "shell.execute_reply": "2023-01-12T10:30:05.819042Z"
    },
    "papermill": {
     "duration": 0.059225,
     "end_time": "2023-01-12T10:30:05.823699",
     "exception": false,
     "start_time": "2023-01-12T10:30:05.764474",
     "status": "completed"
    },
    "tags": []
   },
   "outputs": [
    {
     "data": {
      "text/plain": [
       "WHITE HANGING HEART T-LIGHT HOLDER     2369\n",
       "REGENCY CAKESTAND 3 TIER               2200\n",
       "JUMBO BAG RED RETROSPOT                2159\n",
       "PARTY BUNTING                          1727\n",
       "LUNCH BAG RED RETROSPOT                1638\n",
       "                                       ... \n",
       "Missing                                   1\n",
       "historic computer difference?....se       1\n",
       "DUSTY PINK CHRISTMAS TREE 30CM            1\n",
       "WRAP BLUE RUSSIAN FOLKART                 1\n",
       "PINK BERTIE MOBILE PHONE CHARM            1\n",
       "Name: Description, Length: 4223, dtype: int64"
      ]
     },
     "execution_count": 10,
     "metadata": {},
     "output_type": "execute_result"
    }
   ],
   "source": [
    "df['Description'].value_counts()"
   ]
  },
  {
   "cell_type": "code",
   "execution_count": 11,
   "id": "9bc3bf98",
   "metadata": {
    "execution": {
     "iopub.execute_input": "2023-01-12T10:30:05.853663Z",
     "iopub.status.busy": "2023-01-12T10:30:05.853128Z",
     "iopub.status.idle": "2023-01-12T10:30:05.946142Z",
     "shell.execute_reply": "2023-01-12T10:30:05.944990Z"
    },
    "papermill": {
     "duration": 0.110975,
     "end_time": "2023-01-12T10:30:05.948855",
     "exception": false,
     "start_time": "2023-01-12T10:30:05.837880",
     "status": "completed"
    },
    "tags": []
   },
   "outputs": [
    {
     "data": {
      "text/plain": [
       "InvoiceNo           0\n",
       "Description      1454\n",
       "Quantity            0\n",
       "InvoiceDate         0\n",
       "UnitPrice           0\n",
       "CustomerID     135080\n",
       "Country             0\n",
       "TotalPrice          0\n",
       "dtype: int64"
      ]
     },
     "execution_count": 11,
     "metadata": {},
     "output_type": "execute_result"
    }
   ],
   "source": [
    "df.isna().sum()"
   ]
  },
  {
   "cell_type": "code",
   "execution_count": 12,
   "id": "90e5a8e2",
   "metadata": {
    "execution": {
     "iopub.execute_input": "2023-01-12T10:30:05.977080Z",
     "iopub.status.busy": "2023-01-12T10:30:05.976699Z",
     "iopub.status.idle": "2023-01-12T10:30:06.014957Z",
     "shell.execute_reply": "2023-01-12T10:30:06.013806Z"
    },
    "papermill": {
     "duration": 0.055493,
     "end_time": "2023-01-12T10:30:06.017739",
     "exception": false,
     "start_time": "2023-01-12T10:30:05.962246",
     "status": "completed"
    },
    "tags": []
   },
   "outputs": [],
   "source": [
    "df1=df.copy()"
   ]
  },
  {
   "cell_type": "markdown",
   "id": "cc2d3cba",
   "metadata": {
    "papermill": {
     "duration": 0.012507,
     "end_time": "2023-01-12T10:30:06.043224",
     "exception": false,
     "start_time": "2023-01-12T10:30:06.030717",
     "status": "completed"
    },
    "tags": []
   },
   "source": [
    "# # # drop the missing values "
   ]
  },
  {
   "cell_type": "code",
   "execution_count": 13,
   "id": "b8c8cb7e",
   "metadata": {
    "execution": {
     "iopub.execute_input": "2023-01-12T10:30:06.071181Z",
     "iopub.status.busy": "2023-01-12T10:30:06.070794Z",
     "iopub.status.idle": "2023-01-12T10:30:06.219108Z",
     "shell.execute_reply": "2023-01-12T10:30:06.218186Z"
    },
    "papermill": {
     "duration": 0.165782,
     "end_time": "2023-01-12T10:30:06.221806",
     "exception": false,
     "start_time": "2023-01-12T10:30:06.056024",
     "status": "completed"
    },
    "tags": []
   },
   "outputs": [],
   "source": [
    "df2=df1.dropna(axis=0)"
   ]
  },
  {
   "cell_type": "code",
   "execution_count": 14,
   "id": "7b0c1150",
   "metadata": {
    "execution": {
     "iopub.execute_input": "2023-01-12T10:30:06.251204Z",
     "iopub.status.busy": "2023-01-12T10:30:06.250123Z",
     "iopub.status.idle": "2023-01-12T10:30:06.326339Z",
     "shell.execute_reply": "2023-01-12T10:30:06.324962Z"
    },
    "papermill": {
     "duration": 0.094661,
     "end_time": "2023-01-12T10:30:06.329790",
     "exception": false,
     "start_time": "2023-01-12T10:30:06.235129",
     "status": "completed"
    },
    "tags": []
   },
   "outputs": [
    {
     "name": "stdout",
     "output_type": "stream",
     "text": [
      "<class 'pandas.core.frame.DataFrame'>\n",
      "Int64Index: 406829 entries, 0 to 541908\n",
      "Data columns (total 8 columns):\n",
      " #   Column       Non-Null Count   Dtype         \n",
      "---  ------       --------------   -----         \n",
      " 0   InvoiceNo    406829 non-null  object        \n",
      " 1   Description  406829 non-null  object        \n",
      " 2   Quantity     406829 non-null  int64         \n",
      " 3   InvoiceDate  406829 non-null  datetime64[ns]\n",
      " 4   UnitPrice    406829 non-null  float64       \n",
      " 5   CustomerID   406829 non-null  float64       \n",
      " 6   Country      406829 non-null  object        \n",
      " 7   TotalPrice   406829 non-null  float64       \n",
      "dtypes: datetime64[ns](1), float64(3), int64(1), object(3)\n",
      "memory usage: 27.9+ MB\n"
     ]
    }
   ],
   "source": [
    "df2.info()"
   ]
  },
  {
   "cell_type": "markdown",
   "id": "4df09ea9",
   "metadata": {
    "papermill": {
     "duration": 0.012501,
     "end_time": "2023-01-12T10:30:06.355014",
     "exception": false,
     "start_time": "2023-01-12T10:30:06.342513",
     "status": "completed"
    },
    "tags": []
   },
   "source": [
    "# top 10 quantity description"
   ]
  },
  {
   "cell_type": "code",
   "execution_count": 15,
   "id": "b4ef57bc",
   "metadata": {
    "execution": {
     "iopub.execute_input": "2023-01-12T10:30:06.383523Z",
     "iopub.status.busy": "2023-01-12T10:30:06.382881Z",
     "iopub.status.idle": "2023-01-12T10:30:06.470962Z",
     "shell.execute_reply": "2023-01-12T10:30:06.469675Z"
    },
    "papermill": {
     "duration": 0.10551,
     "end_time": "2023-01-12T10:30:06.473757",
     "exception": false,
     "start_time": "2023-01-12T10:30:06.368247",
     "status": "completed"
    },
    "tags": []
   },
   "outputs": [
    {
     "data": {
      "text/html": [
       "<div>\n",
       "<style scoped>\n",
       "    .dataframe tbody tr th:only-of-type {\n",
       "        vertical-align: middle;\n",
       "    }\n",
       "\n",
       "    .dataframe tbody tr th {\n",
       "        vertical-align: top;\n",
       "    }\n",
       "\n",
       "    .dataframe thead th {\n",
       "        text-align: right;\n",
       "    }\n",
       "</style>\n",
       "<table border=\"1\" class=\"dataframe\">\n",
       "  <thead>\n",
       "    <tr style=\"text-align: right;\">\n",
       "      <th></th>\n",
       "      <th>Quantity</th>\n",
       "    </tr>\n",
       "    <tr>\n",
       "      <th>Description</th>\n",
       "      <th></th>\n",
       "    </tr>\n",
       "  </thead>\n",
       "  <tbody>\n",
       "    <tr>\n",
       "      <th>WORLD WAR 2 GLIDERS ASSTD DESIGNS</th>\n",
       "      <td>53215</td>\n",
       "    </tr>\n",
       "    <tr>\n",
       "      <th>JUMBO BAG RED RETROSPOT</th>\n",
       "      <td>45066</td>\n",
       "    </tr>\n",
       "    <tr>\n",
       "      <th>ASSORTED COLOUR BIRD ORNAMENT</th>\n",
       "      <td>35314</td>\n",
       "    </tr>\n",
       "    <tr>\n",
       "      <th>WHITE HANGING HEART T-LIGHT HOLDER</th>\n",
       "      <td>34147</td>\n",
       "    </tr>\n",
       "    <tr>\n",
       "      <th>PACK OF 72 RETROSPOT CAKE CASES</th>\n",
       "      <td>33409</td>\n",
       "    </tr>\n",
       "    <tr>\n",
       "      <th>POPCORN HOLDER</th>\n",
       "      <td>30504</td>\n",
       "    </tr>\n",
       "    <tr>\n",
       "      <th>RABBIT NIGHT LIGHT</th>\n",
       "      <td>27094</td>\n",
       "    </tr>\n",
       "    <tr>\n",
       "      <th>MINI PAINT SET VINTAGE</th>\n",
       "      <td>25880</td>\n",
       "    </tr>\n",
       "    <tr>\n",
       "      <th>PACK OF 12 LONDON TISSUES</th>\n",
       "      <td>25321</td>\n",
       "    </tr>\n",
       "    <tr>\n",
       "      <th>PACK OF 60 PINK PAISLEY CAKE CASES</th>\n",
       "      <td>24163</td>\n",
       "    </tr>\n",
       "  </tbody>\n",
       "</table>\n",
       "</div>"
      ],
      "text/plain": [
       "                                    Quantity\n",
       "Description                                 \n",
       "WORLD WAR 2 GLIDERS ASSTD DESIGNS      53215\n",
       "JUMBO BAG RED RETROSPOT                45066\n",
       "ASSORTED COLOUR BIRD ORNAMENT          35314\n",
       "WHITE HANGING HEART T-LIGHT HOLDER     34147\n",
       "PACK OF 72 RETROSPOT CAKE CASES        33409\n",
       "POPCORN HOLDER                         30504\n",
       "RABBIT NIGHT LIGHT                     27094\n",
       "MINI PAINT SET VINTAGE                 25880\n",
       "PACK OF 12 LONDON TISSUES              25321\n",
       "PACK OF 60 PINK PAISLEY CAKE CASES     24163"
      ]
     },
     "execution_count": 15,
     "metadata": {},
     "output_type": "execute_result"
    }
   ],
   "source": [
    "df_quantity_sum=df2.groupby('Description').agg({'Quantity':'sum'}).sort_values('Quantity',ascending=False)\n",
    "df_quantity_sum.head(10)"
   ]
  },
  {
   "cell_type": "markdown",
   "id": "e6a13366",
   "metadata": {
    "papermill": {
     "duration": 0.014822,
     "end_time": "2023-01-12T10:30:06.501894",
     "exception": false,
     "start_time": "2023-01-12T10:30:06.487072",
     "status": "completed"
    },
    "tags": []
   },
   "source": [
    "# converting InvoiceNo column to int"
   ]
  },
  {
   "cell_type": "code",
   "execution_count": 16,
   "id": "8dbfa263",
   "metadata": {
    "execution": {
     "iopub.execute_input": "2023-01-12T10:30:06.531072Z",
     "iopub.status.busy": "2023-01-12T10:30:06.530608Z",
     "iopub.status.idle": "2023-01-12T10:30:07.092153Z",
     "shell.execute_reply": "2023-01-12T10:30:07.090453Z"
    },
    "papermill": {
     "duration": 0.579909,
     "end_time": "2023-01-12T10:30:07.095497",
     "exception": false,
     "start_time": "2023-01-12T10:30:06.515588",
     "status": "completed"
    },
    "tags": []
   },
   "outputs": [],
   "source": [
    "df3=df2[~df2['InvoiceNo'].str.contains('C',na=False)]"
   ]
  },
  {
   "cell_type": "code",
   "execution_count": 17,
   "id": "59d830e4",
   "metadata": {
    "execution": {
     "iopub.execute_input": "2023-01-12T10:30:07.124569Z",
     "iopub.status.busy": "2023-01-12T10:30:07.124138Z",
     "iopub.status.idle": "2023-01-12T10:30:07.171133Z",
     "shell.execute_reply": "2023-01-12T10:30:07.169895Z"
    },
    "papermill": {
     "duration": 0.064743,
     "end_time": "2023-01-12T10:30:07.173883",
     "exception": false,
     "start_time": "2023-01-12T10:30:07.109140",
     "status": "completed"
    },
    "tags": []
   },
   "outputs": [],
   "source": [
    "df3['InvoiceNo']=df3['InvoiceNo'].astype(int)"
   ]
  },
  {
   "cell_type": "code",
   "execution_count": 18,
   "id": "6ba6e60b",
   "metadata": {
    "execution": {
     "iopub.execute_input": "2023-01-12T10:30:07.203093Z",
     "iopub.status.busy": "2023-01-12T10:30:07.202671Z",
     "iopub.status.idle": "2023-01-12T10:30:07.254997Z",
     "shell.execute_reply": "2023-01-12T10:30:07.253559Z"
    },
    "papermill": {
     "duration": 0.071213,
     "end_time": "2023-01-12T10:30:07.258475",
     "exception": false,
     "start_time": "2023-01-12T10:30:07.187262",
     "status": "completed"
    },
    "tags": []
   },
   "outputs": [
    {
     "name": "stdout",
     "output_type": "stream",
     "text": [
      "<class 'pandas.core.frame.DataFrame'>\n",
      "Int64Index: 397924 entries, 0 to 541908\n",
      "Data columns (total 8 columns):\n",
      " #   Column       Non-Null Count   Dtype         \n",
      "---  ------       --------------   -----         \n",
      " 0   InvoiceNo    397924 non-null  int64         \n",
      " 1   Description  397924 non-null  object        \n",
      " 2   Quantity     397924 non-null  int64         \n",
      " 3   InvoiceDate  397924 non-null  datetime64[ns]\n",
      " 4   UnitPrice    397924 non-null  float64       \n",
      " 5   CustomerID   397924 non-null  float64       \n",
      " 6   Country      397924 non-null  object        \n",
      " 7   TotalPrice   397924 non-null  float64       \n",
      "dtypes: datetime64[ns](1), float64(3), int64(2), object(2)\n",
      "memory usage: 27.3+ MB\n"
     ]
    }
   ],
   "source": [
    "df3.info()"
   ]
  },
  {
   "cell_type": "code",
   "execution_count": 19,
   "id": "ad428820",
   "metadata": {
    "execution": {
     "iopub.execute_input": "2023-01-12T10:30:07.288586Z",
     "iopub.status.busy": "2023-01-12T10:30:07.287790Z",
     "iopub.status.idle": "2023-01-12T10:30:07.304175Z",
     "shell.execute_reply": "2023-01-12T10:30:07.302608Z"
    },
    "papermill": {
     "duration": 0.034074,
     "end_time": "2023-01-12T10:30:07.307030",
     "exception": false,
     "start_time": "2023-01-12T10:30:07.272956",
     "status": "completed"
    },
    "tags": []
   },
   "outputs": [
    {
     "data": {
      "text/html": [
       "<div>\n",
       "<style scoped>\n",
       "    .dataframe tbody tr th:only-of-type {\n",
       "        vertical-align: middle;\n",
       "    }\n",
       "\n",
       "    .dataframe tbody tr th {\n",
       "        vertical-align: top;\n",
       "    }\n",
       "\n",
       "    .dataframe thead th {\n",
       "        text-align: right;\n",
       "    }\n",
       "</style>\n",
       "<table border=\"1\" class=\"dataframe\">\n",
       "  <thead>\n",
       "    <tr style=\"text-align: right;\">\n",
       "      <th></th>\n",
       "      <th>InvoiceNo</th>\n",
       "      <th>Description</th>\n",
       "      <th>Quantity</th>\n",
       "      <th>InvoiceDate</th>\n",
       "      <th>UnitPrice</th>\n",
       "      <th>CustomerID</th>\n",
       "      <th>Country</th>\n",
       "      <th>TotalPrice</th>\n",
       "    </tr>\n",
       "  </thead>\n",
       "  <tbody>\n",
       "    <tr>\n",
       "      <th>0</th>\n",
       "      <td>536365</td>\n",
       "      <td>WHITE HANGING HEART T-LIGHT HOLDER</td>\n",
       "      <td>6</td>\n",
       "      <td>2010-12-01 08:26:00</td>\n",
       "      <td>2.55</td>\n",
       "      <td>17850.0</td>\n",
       "      <td>United Kingdom</td>\n",
       "      <td>15.30</td>\n",
       "    </tr>\n",
       "    <tr>\n",
       "      <th>1</th>\n",
       "      <td>536365</td>\n",
       "      <td>WHITE METAL LANTERN</td>\n",
       "      <td>6</td>\n",
       "      <td>2010-12-01 08:26:00</td>\n",
       "      <td>3.39</td>\n",
       "      <td>17850.0</td>\n",
       "      <td>United Kingdom</td>\n",
       "      <td>20.34</td>\n",
       "    </tr>\n",
       "    <tr>\n",
       "      <th>2</th>\n",
       "      <td>536365</td>\n",
       "      <td>CREAM CUPID HEARTS COAT HANGER</td>\n",
       "      <td>8</td>\n",
       "      <td>2010-12-01 08:26:00</td>\n",
       "      <td>2.75</td>\n",
       "      <td>17850.0</td>\n",
       "      <td>United Kingdom</td>\n",
       "      <td>22.00</td>\n",
       "    </tr>\n",
       "  </tbody>\n",
       "</table>\n",
       "</div>"
      ],
      "text/plain": [
       "   InvoiceNo                         Description  Quantity  \\\n",
       "0     536365  WHITE HANGING HEART T-LIGHT HOLDER         6   \n",
       "1     536365                 WHITE METAL LANTERN         6   \n",
       "2     536365      CREAM CUPID HEARTS COAT HANGER         8   \n",
       "\n",
       "          InvoiceDate  UnitPrice  CustomerID         Country  TotalPrice  \n",
       "0 2010-12-01 08:26:00       2.55     17850.0  United Kingdom       15.30  \n",
       "1 2010-12-01 08:26:00       3.39     17850.0  United Kingdom       20.34  \n",
       "2 2010-12-01 08:26:00       2.75     17850.0  United Kingdom       22.00  "
      ]
     },
     "execution_count": 19,
     "metadata": {},
     "output_type": "execute_result"
    }
   ],
   "source": [
    "df3.head(3)"
   ]
  },
  {
   "cell_type": "markdown",
   "id": "78c3c3f7",
   "metadata": {
    "papermill": {
     "duration": 0.012986,
     "end_time": "2023-01-12T10:30:07.334121",
     "exception": false,
     "start_time": "2023-01-12T10:30:07.321135",
     "status": "completed"
    },
    "tags": []
   },
   "source": [
    "# visualize sum of total prices for customers"
   ]
  },
  {
   "cell_type": "code",
   "execution_count": 20,
   "id": "226090f0",
   "metadata": {
    "execution": {
     "iopub.execute_input": "2023-01-12T10:30:07.363181Z",
     "iopub.status.busy": "2023-01-12T10:30:07.362345Z",
     "iopub.status.idle": "2023-01-12T10:31:14.012262Z",
     "shell.execute_reply": "2023-01-12T10:31:14.011009Z"
    },
    "papermill": {
     "duration": 66.682688,
     "end_time": "2023-01-12T10:31:14.030157",
     "exception": false,
     "start_time": "2023-01-12T10:30:07.347469",
     "status": "completed"
    },
    "tags": []
   },
   "outputs": [
    {
     "data": {
      "image/png": "[encoded data removed]",
      "text/plain": [
       "<Figure size 1296x864 with 1 Axes>"
      ]
     },
     "metadata": {
      "needs_background": "light"
     },
     "output_type": "display_data"
    }
   ],
   "source": [
    "df3_total_customerid=df3.groupby(['CustomerID'])['TotalPrice'].sum().reset_index()\n",
    "plt.figure(figsize=(18,12))\n",
    "ax=sns.barplot(data=df3_total_customerid,x='CustomerID',y='TotalPrice')\n",
    "plt.xlabel('Customers')\n",
    "plt.ylabel('total prices')\n",
    "plt.title('total prices for customers')\n",
    "g=ax.set_xticklabels(ax.get_xticklabels(),rotation=90)"
   ]
  },
  {
   "cell_type": "markdown",
   "id": "32566da6",
   "metadata": {
    "papermill": {
     "duration": 0.014627,
     "end_time": "2023-01-12T10:31:14.060937",
     "exception": false,
     "start_time": "2023-01-12T10:31:14.046310",
     "status": "completed"
    },
    "tags": []
   },
   "source": [
    "# visualize sum of total prices for countries"
   ]
  },
  {
   "cell_type": "code",
   "execution_count": 21,
   "id": "477f0172",
   "metadata": {
    "execution": {
     "iopub.execute_input": "2023-01-12T10:31:14.091664Z",
     "iopub.status.busy": "2023-01-12T10:31:14.091223Z",
     "iopub.status.idle": "2023-01-12T10:31:14.717150Z",
     "shell.execute_reply": "2023-01-12T10:31:14.715982Z"
    },
    "papermill": {
     "duration": 0.645357,
     "end_time": "2023-01-12T10:31:14.720523",
     "exception": false,
     "start_time": "2023-01-12T10:31:14.075166",
     "status": "completed"
    },
    "tags": []
   },
   "outputs": [
    {
     "data": {
      "image/png": "[encoded data removed]",
      "text/plain": [
       "<Figure size 1296x864 with 1 Axes>"
      ]
     },
     "metadata": {
      "needs_background": "light"
     },
     "output_type": "display_data"
    }
   ],
   "source": [
    "df3_total=df3.groupby(['Country'])['TotalPrice'].sum().reset_index()\n",
    "plt.figure(figsize=(18,12))\n",
    "ax=sns.barplot(data=df3_total,x='Country',y='TotalPrice')\n",
    "plt.xlabel('Country')\n",
    "plt.ylabel('total prices')\n",
    "plt.title('total prices for countries')\n",
    "g=ax.set_xticklabels(ax.get_xticklabels(),rotation=90)"
   ]
  },
  {
   "cell_type": "markdown",
   "id": "3da91d52",
   "metadata": {
    "papermill": {
     "duration": 0.014672,
     "end_time": "2023-01-12T10:31:14.750526",
     "exception": false,
     "start_time": "2023-01-12T10:31:14.735854",
     "status": "completed"
    },
    "tags": []
   },
   "source": [
    "# RFM ANALYSIS"
   ]
  },
  {
   "cell_type": "markdown",
   "id": "e79c4f18",
   "metadata": {
    "papermill": {
     "duration": 0.015087,
     "end_time": "2023-01-12T10:31:14.781174",
     "exception": false,
     "start_time": "2023-01-12T10:31:14.766087",
     "status": "completed"
    },
    "tags": []
   },
   "source": [
    "# set today's date to counting the recency period from last purchase for every customer"
   ]
  },
  {
   "cell_type": "code",
   "execution_count": 22,
   "id": "5f836677",
   "metadata": {
    "execution": {
     "iopub.execute_input": "2023-01-12T10:31:14.814331Z",
     "iopub.status.busy": "2023-01-12T10:31:14.813902Z",
     "iopub.status.idle": "2023-01-12T10:31:14.822842Z",
     "shell.execute_reply": "2023-01-12T10:31:14.821786Z"
    },
    "papermill": {
     "duration": 0.028583,
     "end_time": "2023-01-12T10:31:14.825293",
     "exception": false,
     "start_time": "2023-01-12T10:31:14.796710",
     "status": "completed"
    },
    "tags": []
   },
   "outputs": [
    {
     "data": {
      "text/plain": [
       "Timestamp('2011-12-09 12:50:00')"
      ]
     },
     "execution_count": 22,
     "metadata": {},
     "output_type": "execute_result"
    }
   ],
   "source": [
    "import datetime as dt\n",
    "df3['InvoiceDate'].max()"
   ]
  },
  {
   "cell_type": "code",
   "execution_count": 23,
   "id": "d7fdf971",
   "metadata": {
    "execution": {
     "iopub.execute_input": "2023-01-12T10:31:14.858208Z",
     "iopub.status.busy": "2023-01-12T10:31:14.857371Z",
     "iopub.status.idle": "2023-01-12T10:31:14.862435Z",
     "shell.execute_reply": "2023-01-12T10:31:14.861551Z"
    },
    "papermill": {
     "duration": 0.024833,
     "end_time": "2023-01-12T10:31:14.865414",
     "exception": false,
     "start_time": "2023-01-12T10:31:14.840581",
     "status": "completed"
    },
    "tags": []
   },
   "outputs": [],
   "source": [
    "today_date=dt.datetime(2011,12,11)"
   ]
  },
  {
   "cell_type": "code",
   "execution_count": 24,
   "id": "2ede4add",
   "metadata": {
    "execution": {
     "iopub.execute_input": "2023-01-12T10:31:14.898326Z",
     "iopub.status.busy": "2023-01-12T10:31:14.897909Z",
     "iopub.status.idle": "2023-01-12T10:31:14.915587Z",
     "shell.execute_reply": "2023-01-12T10:31:14.913995Z"
    },
    "papermill": {
     "duration": 0.037284,
     "end_time": "2023-01-12T10:31:14.918380",
     "exception": false,
     "start_time": "2023-01-12T10:31:14.881096",
     "status": "completed"
    },
    "tags": []
   },
   "outputs": [
    {
     "data": {
      "text/html": [
       "<div>\n",
       "<style scoped>\n",
       "    .dataframe tbody tr th:only-of-type {\n",
       "        vertical-align: middle;\n",
       "    }\n",
       "\n",
       "    .dataframe tbody tr th {\n",
       "        vertical-align: top;\n",
       "    }\n",
       "\n",
       "    .dataframe thead th {\n",
       "        text-align: right;\n",
       "    }\n",
       "</style>\n",
       "<table border=\"1\" class=\"dataframe\">\n",
       "  <thead>\n",
       "    <tr style=\"text-align: right;\">\n",
       "      <th></th>\n",
       "      <th>InvoiceNo</th>\n",
       "      <th>Description</th>\n",
       "      <th>Quantity</th>\n",
       "      <th>InvoiceDate</th>\n",
       "      <th>UnitPrice</th>\n",
       "      <th>CustomerID</th>\n",
       "      <th>Country</th>\n",
       "      <th>TotalPrice</th>\n",
       "    </tr>\n",
       "  </thead>\n",
       "  <tbody>\n",
       "    <tr>\n",
       "      <th>0</th>\n",
       "      <td>536365</td>\n",
       "      <td>WHITE HANGING HEART T-LIGHT HOLDER</td>\n",
       "      <td>6</td>\n",
       "      <td>2010-12-01 08:26:00</td>\n",
       "      <td>2.55</td>\n",
       "      <td>17850.0</td>\n",
       "      <td>United Kingdom</td>\n",
       "      <td>15.3</td>\n",
       "    </tr>\n",
       "  </tbody>\n",
       "</table>\n",
       "</div>"
      ],
      "text/plain": [
       "   InvoiceNo                         Description  Quantity  \\\n",
       "0     536365  WHITE HANGING HEART T-LIGHT HOLDER         6   \n",
       "\n",
       "          InvoiceDate  UnitPrice  CustomerID         Country  TotalPrice  \n",
       "0 2010-12-01 08:26:00       2.55     17850.0  United Kingdom        15.3  "
      ]
     },
     "execution_count": 24,
     "metadata": {},
     "output_type": "execute_result"
    }
   ],
   "source": [
    "df3.head(1)"
   ]
  },
  {
   "cell_type": "code",
   "execution_count": 25,
   "id": "918010b8",
   "metadata": {
    "execution": {
     "iopub.execute_input": "2023-01-12T10:31:14.952485Z",
     "iopub.status.busy": "2023-01-12T10:31:14.951739Z",
     "iopub.status.idle": "2023-01-12T10:31:16.026837Z",
     "shell.execute_reply": "2023-01-12T10:31:16.024982Z"
    },
    "papermill": {
     "duration": 1.096225,
     "end_time": "2023-01-12T10:31:16.030078",
     "exception": false,
     "start_time": "2023-01-12T10:31:14.933853",
     "status": "completed"
    },
    "tags": []
   },
   "outputs": [],
   "source": [
    "rfm=df3.groupby('CustomerID').agg({'InvoiceDate':lambda date:(today_date-date.max()).days,'InvoiceNo':lambda num:num.nunique(),'TotalPrice':lambda TotalPrice:TotalPrice.sum()})"
   ]
  },
  {
   "cell_type": "markdown",
   "id": "fb7b9636",
   "metadata": {
    "papermill": {
     "duration": 0.015155,
     "end_time": "2023-01-12T10:31:16.061410",
     "exception": false,
     "start_time": "2023-01-12T10:31:16.046255",
     "status": "completed"
    },
    "tags": []
   },
   "source": [
    "# making RFM(Recency&Frequency and monetary)"
   ]
  },
  {
   "cell_type": "code",
   "execution_count": 26,
   "id": "6b1eb73e",
   "metadata": {
    "execution": {
     "iopub.execute_input": "2023-01-12T10:31:16.095606Z",
     "iopub.status.busy": "2023-01-12T10:31:16.094659Z",
     "iopub.status.idle": "2023-01-12T10:31:16.113761Z",
     "shell.execute_reply": "2023-01-12T10:31:16.111982Z"
    },
    "papermill": {
     "duration": 0.039222,
     "end_time": "2023-01-12T10:31:16.116520",
     "exception": false,
     "start_time": "2023-01-12T10:31:16.077298",
     "status": "completed"
    },
    "tags": []
   },
   "outputs": [
    {
     "data": {
      "text/html": [
       "<div>\n",
       "<style scoped>\n",
       "    .dataframe tbody tr th:only-of-type {\n",
       "        vertical-align: middle;\n",
       "    }\n",
       "\n",
       "    .dataframe tbody tr th {\n",
       "        vertical-align: top;\n",
       "    }\n",
       "\n",
       "    .dataframe thead th {\n",
       "        text-align: right;\n",
       "    }\n",
       "</style>\n",
       "<table border=\"1\" class=\"dataframe\">\n",
       "  <thead>\n",
       "    <tr style=\"text-align: right;\">\n",
       "      <th></th>\n",
       "      <th>Recency</th>\n",
       "      <th>Frequency</th>\n",
       "      <th>Monetary</th>\n",
       "    </tr>\n",
       "    <tr>\n",
       "      <th>CustomerID</th>\n",
       "      <th></th>\n",
       "      <th></th>\n",
       "      <th></th>\n",
       "    </tr>\n",
       "  </thead>\n",
       "  <tbody>\n",
       "    <tr>\n",
       "      <th>12346.0</th>\n",
       "      <td>326</td>\n",
       "      <td>1</td>\n",
       "      <td>77183.60</td>\n",
       "    </tr>\n",
       "    <tr>\n",
       "      <th>12347.0</th>\n",
       "      <td>3</td>\n",
       "      <td>7</td>\n",
       "      <td>4310.00</td>\n",
       "    </tr>\n",
       "    <tr>\n",
       "      <th>12348.0</th>\n",
       "      <td>76</td>\n",
       "      <td>4</td>\n",
       "      <td>1797.24</td>\n",
       "    </tr>\n",
       "    <tr>\n",
       "      <th>12349.0</th>\n",
       "      <td>19</td>\n",
       "      <td>1</td>\n",
       "      <td>1757.55</td>\n",
       "    </tr>\n",
       "    <tr>\n",
       "      <th>12350.0</th>\n",
       "      <td>311</td>\n",
       "      <td>1</td>\n",
       "      <td>334.40</td>\n",
       "    </tr>\n",
       "    <tr>\n",
       "      <th>...</th>\n",
       "      <td>...</td>\n",
       "      <td>...</td>\n",
       "      <td>...</td>\n",
       "    </tr>\n",
       "    <tr>\n",
       "      <th>18280.0</th>\n",
       "      <td>278</td>\n",
       "      <td>1</td>\n",
       "      <td>180.60</td>\n",
       "    </tr>\n",
       "    <tr>\n",
       "      <th>18281.0</th>\n",
       "      <td>181</td>\n",
       "      <td>1</td>\n",
       "      <td>80.82</td>\n",
       "    </tr>\n",
       "    <tr>\n",
       "      <th>18282.0</th>\n",
       "      <td>8</td>\n",
       "      <td>2</td>\n",
       "      <td>178.05</td>\n",
       "    </tr>\n",
       "    <tr>\n",
       "      <th>18283.0</th>\n",
       "      <td>4</td>\n",
       "      <td>16</td>\n",
       "      <td>2094.88</td>\n",
       "    </tr>\n",
       "    <tr>\n",
       "      <th>18287.0</th>\n",
       "      <td>43</td>\n",
       "      <td>3</td>\n",
       "      <td>1837.28</td>\n",
       "    </tr>\n",
       "  </tbody>\n",
       "</table>\n",
       "<p>4339 rows × 3 columns</p>\n",
       "</div>"
      ],
      "text/plain": [
       "            Recency  Frequency  Monetary\n",
       "CustomerID                              \n",
       "12346.0         326          1  77183.60\n",
       "12347.0           3          7   4310.00\n",
       "12348.0          76          4   1797.24\n",
       "12349.0          19          1   1757.55\n",
       "12350.0         311          1    334.40\n",
       "...             ...        ...       ...\n",
       "18280.0         278          1    180.60\n",
       "18281.0         181          1     80.82\n",
       "18282.0           8          2    178.05\n",
       "18283.0           4         16   2094.88\n",
       "18287.0          43          3   1837.28\n",
       "\n",
       "[4339 rows x 3 columns]"
      ]
     },
     "execution_count": 26,
     "metadata": {},
     "output_type": "execute_result"
    }
   ],
   "source": [
    "rfm.columns=['Recency','Frequency','Monetary']\n",
    "rfm"
   ]
  },
  {
   "cell_type": "code",
   "execution_count": 27,
   "id": "0e01c734",
   "metadata": {
    "execution": {
     "iopub.execute_input": "2023-01-12T10:31:16.149674Z",
     "iopub.status.busy": "2023-01-12T10:31:16.148895Z",
     "iopub.status.idle": "2023-01-12T10:31:16.177499Z",
     "shell.execute_reply": "2023-01-12T10:31:16.176300Z"
    },
    "papermill": {
     "duration": 0.048016,
     "end_time": "2023-01-12T10:31:16.180064",
     "exception": false,
     "start_time": "2023-01-12T10:31:16.132048",
     "status": "completed"
    },
    "tags": []
   },
   "outputs": [
    {
     "data": {
      "text/html": [
       "<div>\n",
       "<style scoped>\n",
       "    .dataframe tbody tr th:only-of-type {\n",
       "        vertical-align: middle;\n",
       "    }\n",
       "\n",
       "    .dataframe tbody tr th {\n",
       "        vertical-align: top;\n",
       "    }\n",
       "\n",
       "    .dataframe thead th {\n",
       "        text-align: right;\n",
       "    }\n",
       "</style>\n",
       "<table border=\"1\" class=\"dataframe\">\n",
       "  <thead>\n",
       "    <tr style=\"text-align: right;\">\n",
       "      <th></th>\n",
       "      <th>count</th>\n",
       "      <th>mean</th>\n",
       "      <th>std</th>\n",
       "      <th>min</th>\n",
       "      <th>25%</th>\n",
       "      <th>50%</th>\n",
       "      <th>75%</th>\n",
       "      <th>max</th>\n",
       "    </tr>\n",
       "  </thead>\n",
       "  <tbody>\n",
       "    <tr>\n",
       "      <th>Recency</th>\n",
       "      <td>4339.0</td>\n",
       "      <td>93.041484</td>\n",
       "      <td>100.007757</td>\n",
       "      <td>1.0</td>\n",
       "      <td>18.000</td>\n",
       "      <td>51.00</td>\n",
       "      <td>142.50</td>\n",
       "      <td>374.00</td>\n",
       "    </tr>\n",
       "    <tr>\n",
       "      <th>Frequency</th>\n",
       "      <td>4339.0</td>\n",
       "      <td>4.271952</td>\n",
       "      <td>7.705493</td>\n",
       "      <td>1.0</td>\n",
       "      <td>1.000</td>\n",
       "      <td>2.00</td>\n",
       "      <td>5.00</td>\n",
       "      <td>210.00</td>\n",
       "    </tr>\n",
       "    <tr>\n",
       "      <th>Monetary</th>\n",
       "      <td>4339.0</td>\n",
       "      <td>2053.793018</td>\n",
       "      <td>8988.248381</td>\n",
       "      <td>0.0</td>\n",
       "      <td>307.245</td>\n",
       "      <td>674.45</td>\n",
       "      <td>1661.64</td>\n",
       "      <td>280206.02</td>\n",
       "    </tr>\n",
       "  </tbody>\n",
       "</table>\n",
       "</div>"
      ],
      "text/plain": [
       "            count         mean          std  min      25%     50%      75%  \\\n",
       "Recency    4339.0    93.041484   100.007757  1.0   18.000   51.00   142.50   \n",
       "Frequency  4339.0     4.271952     7.705493  1.0    1.000    2.00     5.00   \n",
       "Monetary   4339.0  2053.793018  8988.248381  0.0  307.245  674.45  1661.64   \n",
       "\n",
       "                 max  \n",
       "Recency       374.00  \n",
       "Frequency     210.00  \n",
       "Monetary   280206.02  "
      ]
     },
     "execution_count": 27,
     "metadata": {},
     "output_type": "execute_result"
    }
   ],
   "source": [
    "rfm.describe().T"
   ]
  },
  {
   "cell_type": "markdown",
   "id": "f68ed4b0",
   "metadata": {
    "papermill": {
     "duration": 0.015435,
     "end_time": "2023-01-12T10:31:16.212373",
     "exception": false,
     "start_time": "2023-01-12T10:31:16.196938",
     "status": "completed"
    },
    "tags": []
   },
   "source": [
    "# droping Monetary less than or equal zero"
   ]
  },
  {
   "cell_type": "code",
   "execution_count": 28,
   "id": "b484407c",
   "metadata": {
    "execution": {
     "iopub.execute_input": "2023-01-12T10:31:16.248422Z",
     "iopub.status.busy": "2023-01-12T10:31:16.247378Z",
     "iopub.status.idle": "2023-01-12T10:31:16.254097Z",
     "shell.execute_reply": "2023-01-12T10:31:16.252921Z"
    },
    "papermill": {
     "duration": 0.028344,
     "end_time": "2023-01-12T10:31:16.257255",
     "exception": false,
     "start_time": "2023-01-12T10:31:16.228911",
     "status": "completed"
    },
    "tags": []
   },
   "outputs": [],
   "source": [
    "rfm=rfm[rfm['Monetary']>0]"
   ]
  },
  {
   "cell_type": "code",
   "execution_count": 29,
   "id": "bd65d726",
   "metadata": {
    "execution": {
     "iopub.execute_input": "2023-01-12T10:31:16.293684Z",
     "iopub.status.busy": "2023-01-12T10:31:16.293202Z",
     "iopub.status.idle": "2023-01-12T10:31:16.320175Z",
     "shell.execute_reply": "2023-01-12T10:31:16.319193Z"
    },
    "papermill": {
     "duration": 0.047805,
     "end_time": "2023-01-12T10:31:16.322508",
     "exception": false,
     "start_time": "2023-01-12T10:31:16.274703",
     "status": "completed"
    },
    "tags": []
   },
   "outputs": [
    {
     "data": {
      "text/html": [
       "<div>\n",
       "<style scoped>\n",
       "    .dataframe tbody tr th:only-of-type {\n",
       "        vertical-align: middle;\n",
       "    }\n",
       "\n",
       "    .dataframe tbody tr th {\n",
       "        vertical-align: top;\n",
       "    }\n",
       "\n",
       "    .dataframe thead th {\n",
       "        text-align: right;\n",
       "    }\n",
       "</style>\n",
       "<table border=\"1\" class=\"dataframe\">\n",
       "  <thead>\n",
       "    <tr style=\"text-align: right;\">\n",
       "      <th></th>\n",
       "      <th>count</th>\n",
       "      <th>mean</th>\n",
       "      <th>std</th>\n",
       "      <th>min</th>\n",
       "      <th>25%</th>\n",
       "      <th>50%</th>\n",
       "      <th>75%</th>\n",
       "      <th>max</th>\n",
       "    </tr>\n",
       "  </thead>\n",
       "  <tbody>\n",
       "    <tr>\n",
       "      <th>Recency</th>\n",
       "      <td>4338.0</td>\n",
       "      <td>93.059474</td>\n",
       "      <td>100.012264</td>\n",
       "      <td>1.00</td>\n",
       "      <td>18.000</td>\n",
       "      <td>51.000</td>\n",
       "      <td>142.75</td>\n",
       "      <td>374.00</td>\n",
       "    </tr>\n",
       "    <tr>\n",
       "      <th>Frequency</th>\n",
       "      <td>4338.0</td>\n",
       "      <td>4.272706</td>\n",
       "      <td>7.706221</td>\n",
       "      <td>1.00</td>\n",
       "      <td>1.000</td>\n",
       "      <td>2.000</td>\n",
       "      <td>5.00</td>\n",
       "      <td>210.00</td>\n",
       "    </tr>\n",
       "    <tr>\n",
       "      <th>Monetary</th>\n",
       "      <td>4338.0</td>\n",
       "      <td>2054.266460</td>\n",
       "      <td>8989.230441</td>\n",
       "      <td>3.75</td>\n",
       "      <td>307.415</td>\n",
       "      <td>674.485</td>\n",
       "      <td>1661.74</td>\n",
       "      <td>280206.02</td>\n",
       "    </tr>\n",
       "  </tbody>\n",
       "</table>\n",
       "</div>"
      ],
      "text/plain": [
       "            count         mean          std   min      25%      50%      75%  \\\n",
       "Recency    4338.0    93.059474   100.012264  1.00   18.000   51.000   142.75   \n",
       "Frequency  4338.0     4.272706     7.706221  1.00    1.000    2.000     5.00   \n",
       "Monetary   4338.0  2054.266460  8989.230441  3.75  307.415  674.485  1661.74   \n",
       "\n",
       "                 max  \n",
       "Recency       374.00  \n",
       "Frequency     210.00  \n",
       "Monetary   280206.02  "
      ]
     },
     "execution_count": 29,
     "metadata": {},
     "output_type": "execute_result"
    }
   ],
   "source": [
    "rfm.describe().T"
   ]
  },
  {
   "cell_type": "markdown",
   "id": "10c31db7",
   "metadata": {
    "papermill": {
     "duration": 0.015624,
     "end_time": "2023-01-12T10:31:16.354533",
     "exception": false,
     "start_time": "2023-01-12T10:31:16.338909",
     "status": "completed"
    },
    "tags": []
   },
   "source": [
    "# set values from 1_5 for every customer in Recency&Frequency and Monetary"
   ]
  },
  {
   "cell_type": "markdown",
   "id": "e75473e3",
   "metadata": {
    "papermill": {
     "duration": 0.015901,
     "end_time": "2023-01-12T10:31:16.386581",
     "exception": false,
     "start_time": "2023-01-12T10:31:16.370680",
     "status": "completed"
    },
    "tags": []
   },
   "source": [
    "# the closer date has 5 and the farest date has 1"
   ]
  },
  {
   "cell_type": "code",
   "execution_count": 30,
   "id": "d148fc87",
   "metadata": {
    "execution": {
     "iopub.execute_input": "2023-01-12T10:31:16.422116Z",
     "iopub.status.busy": "2023-01-12T10:31:16.420884Z",
     "iopub.status.idle": "2023-01-12T10:31:16.430667Z",
     "shell.execute_reply": "2023-01-12T10:31:16.429340Z"
    },
    "papermill": {
     "duration": 0.03086,
     "end_time": "2023-01-12T10:31:16.433482",
     "exception": false,
     "start_time": "2023-01-12T10:31:16.402622",
     "status": "completed"
    },
    "tags": []
   },
   "outputs": [],
   "source": [
    "rfm['recency_score']=pd.qcut(rfm['Recency'],5,labels=[5,4,3,2,1])"
   ]
  },
  {
   "cell_type": "markdown",
   "id": "883274bc",
   "metadata": {
    "papermill": {
     "duration": 0.01605,
     "end_time": "2023-01-12T10:31:16.466330",
     "exception": false,
     "start_time": "2023-01-12T10:31:16.450280",
     "status": "completed"
    },
    "tags": []
   },
   "source": [
    "# the higher frequency has 5 and the lowest frequency has 1"
   ]
  },
  {
   "cell_type": "code",
   "execution_count": 31,
   "id": "0e526b0b",
   "metadata": {
    "execution": {
     "iopub.execute_input": "2023-01-12T10:31:16.502051Z",
     "iopub.status.busy": "2023-01-12T10:31:16.501122Z",
     "iopub.status.idle": "2023-01-12T10:31:16.513704Z",
     "shell.execute_reply": "2023-01-12T10:31:16.512469Z"
    },
    "papermill": {
     "duration": 0.034216,
     "end_time": "2023-01-12T10:31:16.516496",
     "exception": false,
     "start_time": "2023-01-12T10:31:16.482280",
     "status": "completed"
    },
    "tags": []
   },
   "outputs": [],
   "source": [
    "rfm['frequency_score']=pd.qcut(rfm['Frequency'].rank(method='first'),5,labels=[1,2,3,4,5])\n"
   ]
  },
  {
   "cell_type": "markdown",
   "id": "9f9ef115",
   "metadata": {
    "papermill": {
     "duration": 0.015715,
     "end_time": "2023-01-12T10:31:16.548523",
     "exception": false,
     "start_time": "2023-01-12T10:31:16.532808",
     "status": "completed"
    },
    "tags": []
   },
   "source": [
    "# the highest money entery has 5 and the lowest money entery has 1"
   ]
  },
  {
   "cell_type": "code",
   "execution_count": 32,
   "id": "358f6277",
   "metadata": {
    "execution": {
     "iopub.execute_input": "2023-01-12T10:31:16.582969Z",
     "iopub.status.busy": "2023-01-12T10:31:16.582513Z",
     "iopub.status.idle": "2023-01-12T10:31:16.592079Z",
     "shell.execute_reply": "2023-01-12T10:31:16.590844Z"
    },
    "papermill": {
     "duration": 0.03025,
     "end_time": "2023-01-12T10:31:16.594961",
     "exception": false,
     "start_time": "2023-01-12T10:31:16.564711",
     "status": "completed"
    },
    "tags": []
   },
   "outputs": [],
   "source": [
    "rfm['monetary_score']=pd.qcut(rfm['Monetary'],5,labels=[1,2,3,4,5])"
   ]
  },
  {
   "cell_type": "code",
   "execution_count": 33,
   "id": "5d350d81",
   "metadata": {
    "execution": {
     "iopub.execute_input": "2023-01-12T10:31:16.630361Z",
     "iopub.status.busy": "2023-01-12T10:31:16.629937Z",
     "iopub.status.idle": "2023-01-12T10:31:16.645378Z",
     "shell.execute_reply": "2023-01-12T10:31:16.644022Z"
    },
    "papermill": {
     "duration": 0.036115,
     "end_time": "2023-01-12T10:31:16.647907",
     "exception": false,
     "start_time": "2023-01-12T10:31:16.611792",
     "status": "completed"
    },
    "tags": []
   },
   "outputs": [
    {
     "data": {
      "text/html": [
       "<div>\n",
       "<style scoped>\n",
       "    .dataframe tbody tr th:only-of-type {\n",
       "        vertical-align: middle;\n",
       "    }\n",
       "\n",
       "    .dataframe tbody tr th {\n",
       "        vertical-align: top;\n",
       "    }\n",
       "\n",
       "    .dataframe thead th {\n",
       "        text-align: right;\n",
       "    }\n",
       "</style>\n",
       "<table border=\"1\" class=\"dataframe\">\n",
       "  <thead>\n",
       "    <tr style=\"text-align: right;\">\n",
       "      <th></th>\n",
       "      <th>Recency</th>\n",
       "      <th>Frequency</th>\n",
       "      <th>Monetary</th>\n",
       "      <th>recency_score</th>\n",
       "      <th>frequency_score</th>\n",
       "      <th>monetary_score</th>\n",
       "    </tr>\n",
       "    <tr>\n",
       "      <th>CustomerID</th>\n",
       "      <th></th>\n",
       "      <th></th>\n",
       "      <th></th>\n",
       "      <th></th>\n",
       "      <th></th>\n",
       "      <th></th>\n",
       "    </tr>\n",
       "  </thead>\n",
       "  <tbody>\n",
       "    <tr>\n",
       "      <th>12346.0</th>\n",
       "      <td>326</td>\n",
       "      <td>1</td>\n",
       "      <td>77183.60</td>\n",
       "      <td>1</td>\n",
       "      <td>1</td>\n",
       "      <td>5</td>\n",
       "    </tr>\n",
       "    <tr>\n",
       "      <th>12347.0</th>\n",
       "      <td>3</td>\n",
       "      <td>7</td>\n",
       "      <td>4310.00</td>\n",
       "      <td>5</td>\n",
       "      <td>5</td>\n",
       "      <td>5</td>\n",
       "    </tr>\n",
       "    <tr>\n",
       "      <th>12348.0</th>\n",
       "      <td>76</td>\n",
       "      <td>4</td>\n",
       "      <td>1797.24</td>\n",
       "      <td>2</td>\n",
       "      <td>4</td>\n",
       "      <td>4</td>\n",
       "    </tr>\n",
       "    <tr>\n",
       "      <th>12349.0</th>\n",
       "      <td>19</td>\n",
       "      <td>1</td>\n",
       "      <td>1757.55</td>\n",
       "      <td>4</td>\n",
       "      <td>1</td>\n",
       "      <td>4</td>\n",
       "    </tr>\n",
       "    <tr>\n",
       "      <th>12350.0</th>\n",
       "      <td>311</td>\n",
       "      <td>1</td>\n",
       "      <td>334.40</td>\n",
       "      <td>1</td>\n",
       "      <td>1</td>\n",
       "      <td>2</td>\n",
       "    </tr>\n",
       "  </tbody>\n",
       "</table>\n",
       "</div>"
      ],
      "text/plain": [
       "            Recency  Frequency  Monetary recency_score frequency_score  \\\n",
       "CustomerID                                                               \n",
       "12346.0         326          1  77183.60             1               1   \n",
       "12347.0           3          7   4310.00             5               5   \n",
       "12348.0          76          4   1797.24             2               4   \n",
       "12349.0          19          1   1757.55             4               1   \n",
       "12350.0         311          1    334.40             1               1   \n",
       "\n",
       "           monetary_score  \n",
       "CustomerID                 \n",
       "12346.0                 5  \n",
       "12347.0                 5  \n",
       "12348.0                 4  \n",
       "12349.0                 4  \n",
       "12350.0                 2  "
      ]
     },
     "execution_count": 33,
     "metadata": {},
     "output_type": "execute_result"
    }
   ],
   "source": [
    "rfm.head()"
   ]
  },
  {
   "cell_type": "markdown",
   "id": "18c44087",
   "metadata": {
    "papermill": {
     "duration": 0.017287,
     "end_time": "2023-01-12T10:31:16.682493",
     "exception": false,
     "start_time": "2023-01-12T10:31:16.665206",
     "status": "completed"
    },
    "tags": []
   },
   "source": [
    "# we making RFM ANALYSIS to Identify the best customers and focus on offering them the best treatment and Improving and prioritize customer service team’s activity and campaigns so we droping the monetary effecting."
   ]
  },
  {
   "cell_type": "markdown",
   "id": "295af2e8",
   "metadata": {
    "papermill": {
     "duration": 0.016521,
     "end_time": "2023-01-12T10:31:16.715359",
     "exception": false,
     "start_time": "2023-01-12T10:31:16.698838",
     "status": "completed"
    },
    "tags": []
   },
   "source": [
    "# we put Recency as 100 and Frequency as 10 "
   ]
  },
  {
   "cell_type": "code",
   "execution_count": 34,
   "id": "4b919780",
   "metadata": {
    "execution": {
     "iopub.execute_input": "2023-01-12T10:31:16.749987Z",
     "iopub.status.busy": "2023-01-12T10:31:16.749568Z",
     "iopub.status.idle": "2023-01-12T10:31:16.770747Z",
     "shell.execute_reply": "2023-01-12T10:31:16.768880Z"
    },
    "papermill": {
     "duration": 0.041418,
     "end_time": "2023-01-12T10:31:16.773333",
     "exception": false,
     "start_time": "2023-01-12T10:31:16.731915",
     "status": "completed"
    },
    "tags": []
   },
   "outputs": [
    {
     "data": {
      "text/html": [
       "<div>\n",
       "<style scoped>\n",
       "    .dataframe tbody tr th:only-of-type {\n",
       "        vertical-align: middle;\n",
       "    }\n",
       "\n",
       "    .dataframe tbody tr th {\n",
       "        vertical-align: top;\n",
       "    }\n",
       "\n",
       "    .dataframe thead th {\n",
       "        text-align: right;\n",
       "    }\n",
       "</style>\n",
       "<table border=\"1\" class=\"dataframe\">\n",
       "  <thead>\n",
       "    <tr style=\"text-align: right;\">\n",
       "      <th></th>\n",
       "      <th>Recency</th>\n",
       "      <th>Frequency</th>\n",
       "      <th>Monetary</th>\n",
       "      <th>recency_score</th>\n",
       "      <th>frequency_score</th>\n",
       "      <th>monetary_score</th>\n",
       "      <th>RFM_SCORE</th>\n",
       "    </tr>\n",
       "    <tr>\n",
       "      <th>CustomerID</th>\n",
       "      <th></th>\n",
       "      <th></th>\n",
       "      <th></th>\n",
       "      <th></th>\n",
       "      <th></th>\n",
       "      <th></th>\n",
       "      <th></th>\n",
       "    </tr>\n",
       "  </thead>\n",
       "  <tbody>\n",
       "    <tr>\n",
       "      <th>12346.0</th>\n",
       "      <td>326</td>\n",
       "      <td>1</td>\n",
       "      <td>77183.60</td>\n",
       "      <td>1</td>\n",
       "      <td>1</td>\n",
       "      <td>5</td>\n",
       "      <td>11</td>\n",
       "    </tr>\n",
       "    <tr>\n",
       "      <th>12347.0</th>\n",
       "      <td>3</td>\n",
       "      <td>7</td>\n",
       "      <td>4310.00</td>\n",
       "      <td>5</td>\n",
       "      <td>5</td>\n",
       "      <td>5</td>\n",
       "      <td>55</td>\n",
       "    </tr>\n",
       "    <tr>\n",
       "      <th>12348.0</th>\n",
       "      <td>76</td>\n",
       "      <td>4</td>\n",
       "      <td>1797.24</td>\n",
       "      <td>2</td>\n",
       "      <td>4</td>\n",
       "      <td>4</td>\n",
       "      <td>24</td>\n",
       "    </tr>\n",
       "    <tr>\n",
       "      <th>12349.0</th>\n",
       "      <td>19</td>\n",
       "      <td>1</td>\n",
       "      <td>1757.55</td>\n",
       "      <td>4</td>\n",
       "      <td>1</td>\n",
       "      <td>4</td>\n",
       "      <td>41</td>\n",
       "    </tr>\n",
       "    <tr>\n",
       "      <th>12350.0</th>\n",
       "      <td>311</td>\n",
       "      <td>1</td>\n",
       "      <td>334.40</td>\n",
       "      <td>1</td>\n",
       "      <td>1</td>\n",
       "      <td>2</td>\n",
       "      <td>11</td>\n",
       "    </tr>\n",
       "  </tbody>\n",
       "</table>\n",
       "</div>"
      ],
      "text/plain": [
       "            Recency  Frequency  Monetary recency_score frequency_score  \\\n",
       "CustomerID                                                               \n",
       "12346.0         326          1  77183.60             1               1   \n",
       "12347.0           3          7   4310.00             5               5   \n",
       "12348.0          76          4   1797.24             2               4   \n",
       "12349.0          19          1   1757.55             4               1   \n",
       "12350.0         311          1    334.40             1               1   \n",
       "\n",
       "           monetary_score RFM_SCORE  \n",
       "CustomerID                           \n",
       "12346.0                 5        11  \n",
       "12347.0                 5        55  \n",
       "12348.0                 4        24  \n",
       "12349.0                 4        41  \n",
       "12350.0                 2        11  "
      ]
     },
     "execution_count": 34,
     "metadata": {},
     "output_type": "execute_result"
    }
   ],
   "source": [
    "rfm['RFM_SCORE']=(rfm['recency_score'].astype(str)+rfm['frequency_score'].astype(str))\n",
    "rfm.head()"
   ]
  },
  {
   "cell_type": "markdown",
   "id": "c69018ba",
   "metadata": {
    "papermill": {
     "duration": 0.01812,
     "end_time": "2023-01-12T10:31:16.808341",
     "exception": false,
     "start_time": "2023-01-12T10:31:16.790221",
     "status": "completed"
    },
    "tags": []
   },
   "source": [
    "# making segment map for customers to cluster them"
   ]
  },
  {
   "cell_type": "code",
   "execution_count": 35,
   "id": "edf0811a",
   "metadata": {
    "execution": {
     "iopub.execute_input": "2023-01-12T10:31:16.845017Z",
     "iopub.status.busy": "2023-01-12T10:31:16.844106Z",
     "iopub.status.idle": "2023-01-12T10:31:16.942479Z",
     "shell.execute_reply": "2023-01-12T10:31:16.941259Z"
    },
    "papermill": {
     "duration": 0.120222,
     "end_time": "2023-01-12T10:31:16.945209",
     "exception": false,
     "start_time": "2023-01-12T10:31:16.824987",
     "status": "completed"
    },
    "tags": []
   },
   "outputs": [
    {
     "data": {
      "text/html": [
       "<div>\n",
       "<style scoped>\n",
       "    .dataframe tbody tr th:only-of-type {\n",
       "        vertical-align: middle;\n",
       "    }\n",
       "\n",
       "    .dataframe tbody tr th {\n",
       "        vertical-align: top;\n",
       "    }\n",
       "\n",
       "    .dataframe thead th {\n",
       "        text-align: right;\n",
       "    }\n",
       "</style>\n",
       "<table border=\"1\" class=\"dataframe\">\n",
       "  <thead>\n",
       "    <tr style=\"text-align: right;\">\n",
       "      <th></th>\n",
       "      <th>Recency</th>\n",
       "      <th>Frequency</th>\n",
       "      <th>Monetary</th>\n",
       "      <th>recency_score</th>\n",
       "      <th>frequency_score</th>\n",
       "      <th>monetary_score</th>\n",
       "      <th>RFM_SCORE</th>\n",
       "      <th>segment</th>\n",
       "    </tr>\n",
       "    <tr>\n",
       "      <th>CustomerID</th>\n",
       "      <th></th>\n",
       "      <th></th>\n",
       "      <th></th>\n",
       "      <th></th>\n",
       "      <th></th>\n",
       "      <th></th>\n",
       "      <th></th>\n",
       "      <th></th>\n",
       "    </tr>\n",
       "  </thead>\n",
       "  <tbody>\n",
       "    <tr>\n",
       "      <th>12346.0</th>\n",
       "      <td>326</td>\n",
       "      <td>1</td>\n",
       "      <td>77183.60</td>\n",
       "      <td>1</td>\n",
       "      <td>1</td>\n",
       "      <td>5</td>\n",
       "      <td>11</td>\n",
       "      <td>hibernating</td>\n",
       "    </tr>\n",
       "    <tr>\n",
       "      <th>12347.0</th>\n",
       "      <td>3</td>\n",
       "      <td>7</td>\n",
       "      <td>4310.00</td>\n",
       "      <td>5</td>\n",
       "      <td>5</td>\n",
       "      <td>5</td>\n",
       "      <td>55</td>\n",
       "      <td>champions</td>\n",
       "    </tr>\n",
       "    <tr>\n",
       "      <th>12348.0</th>\n",
       "      <td>76</td>\n",
       "      <td>4</td>\n",
       "      <td>1797.24</td>\n",
       "      <td>2</td>\n",
       "      <td>4</td>\n",
       "      <td>4</td>\n",
       "      <td>24</td>\n",
       "      <td>at_risk</td>\n",
       "    </tr>\n",
       "    <tr>\n",
       "      <th>12349.0</th>\n",
       "      <td>19</td>\n",
       "      <td>1</td>\n",
       "      <td>1757.55</td>\n",
       "      <td>4</td>\n",
       "      <td>1</td>\n",
       "      <td>4</td>\n",
       "      <td>41</td>\n",
       "      <td>promissing</td>\n",
       "    </tr>\n",
       "    <tr>\n",
       "      <th>12350.0</th>\n",
       "      <td>311</td>\n",
       "      <td>1</td>\n",
       "      <td>334.40</td>\n",
       "      <td>1</td>\n",
       "      <td>1</td>\n",
       "      <td>2</td>\n",
       "      <td>11</td>\n",
       "      <td>hibernating</td>\n",
       "    </tr>\n",
       "  </tbody>\n",
       "</table>\n",
       "</div>"
      ],
      "text/plain": [
       "            Recency  Frequency  Monetary recency_score frequency_score  \\\n",
       "CustomerID                                                               \n",
       "12346.0         326          1  77183.60             1               1   \n",
       "12347.0           3          7   4310.00             5               5   \n",
       "12348.0          76          4   1797.24             2               4   \n",
       "12349.0          19          1   1757.55             4               1   \n",
       "12350.0         311          1    334.40             1               1   \n",
       "\n",
       "           monetary_score RFM_SCORE      segment  \n",
       "CustomerID                                        \n",
       "12346.0                 5        11  hibernating  \n",
       "12347.0                 5        55    champions  \n",
       "12348.0                 4        24      at_risk  \n",
       "12349.0                 4        41   promissing  \n",
       "12350.0                 2        11  hibernating  "
      ]
     },
     "execution_count": 35,
     "metadata": {},
     "output_type": "execute_result"
    }
   ],
   "source": [
    "seg_map={r'[1-2][1-2]':'hibernating',r'[1-2][3-4]':'at_risk',r'[1-2]5':'cant_lose',r'3[1-2]':'about_to_sleep',r'33':'need_attention',r'[3-4][4-5]':'loyal_customers',r'41':'promissing',r'51':'new_customers',r'[4-5][2-3]':'potential_loyalists',r'5[4-5]':'champions'}\n",
    "rfm['segment']=rfm['RFM_SCORE'].replace(seg_map,regex=True)\n",
    "rfm.head()"
   ]
  },
  {
   "cell_type": "markdown",
   "id": "98683bbe",
   "metadata": {
    "papermill": {
     "duration": 0.017031,
     "end_time": "2023-01-12T10:31:16.979005",
     "exception": false,
     "start_time": "2023-01-12T10:31:16.961974",
     "status": "completed"
    },
    "tags": []
   },
   "source": [
    "# segment description"
   ]
  },
  {
   "cell_type": "code",
   "execution_count": 36,
   "id": "926a845d",
   "metadata": {
    "execution": {
     "iopub.execute_input": "2023-01-12T10:31:17.015622Z",
     "iopub.status.busy": "2023-01-12T10:31:17.015142Z",
     "iopub.status.idle": "2023-01-12T10:31:17.055019Z",
     "shell.execute_reply": "2023-01-12T10:31:17.054087Z"
    },
    "papermill": {
     "duration": 0.061279,
     "end_time": "2023-01-12T10:31:17.057109",
     "exception": false,
     "start_time": "2023-01-12T10:31:16.995830",
     "status": "completed"
    },
    "tags": []
   },
   "outputs": [
    {
     "data": {
      "text/html": [
       "<div>\n",
       "<style scoped>\n",
       "    .dataframe tbody tr th:only-of-type {\n",
       "        vertical-align: middle;\n",
       "    }\n",
       "\n",
       "    .dataframe tbody tr th {\n",
       "        vertical-align: top;\n",
       "    }\n",
       "\n",
       "    .dataframe thead tr th {\n",
       "        text-align: left;\n",
       "    }\n",
       "\n",
       "    .dataframe thead tr:last-of-type th {\n",
       "        text-align: right;\n",
       "    }\n",
       "</style>\n",
       "<table border=\"1\" class=\"dataframe\">\n",
       "  <thead>\n",
       "    <tr>\n",
       "      <th></th>\n",
       "      <th colspan=\"3\" halign=\"left\">Recency</th>\n",
       "      <th colspan=\"3\" halign=\"left\">Frequency</th>\n",
       "      <th colspan=\"3\" halign=\"left\">Monetary</th>\n",
       "    </tr>\n",
       "    <tr>\n",
       "      <th></th>\n",
       "      <th>mean</th>\n",
       "      <th>count</th>\n",
       "      <th>max</th>\n",
       "      <th>mean</th>\n",
       "      <th>count</th>\n",
       "      <th>max</th>\n",
       "      <th>mean</th>\n",
       "      <th>count</th>\n",
       "      <th>max</th>\n",
       "    </tr>\n",
       "    <tr>\n",
       "      <th>segment</th>\n",
       "      <th></th>\n",
       "      <th></th>\n",
       "      <th></th>\n",
       "      <th></th>\n",
       "      <th></th>\n",
       "      <th></th>\n",
       "      <th></th>\n",
       "      <th></th>\n",
       "      <th></th>\n",
       "    </tr>\n",
       "  </thead>\n",
       "  <tbody>\n",
       "    <tr>\n",
       "      <th>about_to_sleep</th>\n",
       "      <td>53.31</td>\n",
       "      <td>352</td>\n",
       "      <td>72</td>\n",
       "      <td>1.16</td>\n",
       "      <td>352</td>\n",
       "      <td>2</td>\n",
       "      <td>471.99</td>\n",
       "      <td>352</td>\n",
       "      <td>6207.67</td>\n",
       "    </tr>\n",
       "    <tr>\n",
       "      <th>at_risk</th>\n",
       "      <td>153.79</td>\n",
       "      <td>593</td>\n",
       "      <td>374</td>\n",
       "      <td>2.88</td>\n",
       "      <td>593</td>\n",
       "      <td>6</td>\n",
       "      <td>1084.54</td>\n",
       "      <td>593</td>\n",
       "      <td>44534.30</td>\n",
       "    </tr>\n",
       "    <tr>\n",
       "      <th>cant_lose</th>\n",
       "      <td>132.97</td>\n",
       "      <td>63</td>\n",
       "      <td>373</td>\n",
       "      <td>8.38</td>\n",
       "      <td>63</td>\n",
       "      <td>34</td>\n",
       "      <td>2796.16</td>\n",
       "      <td>63</td>\n",
       "      <td>10254.18</td>\n",
       "    </tr>\n",
       "    <tr>\n",
       "      <th>champions</th>\n",
       "      <td>6.36</td>\n",
       "      <td>633</td>\n",
       "      <td>13</td>\n",
       "      <td>12.42</td>\n",
       "      <td>633</td>\n",
       "      <td>210</td>\n",
       "      <td>6857.94</td>\n",
       "      <td>633</td>\n",
       "      <td>280206.02</td>\n",
       "    </tr>\n",
       "    <tr>\n",
       "      <th>hibernating</th>\n",
       "      <td>217.61</td>\n",
       "      <td>1071</td>\n",
       "      <td>374</td>\n",
       "      <td>1.10</td>\n",
       "      <td>1071</td>\n",
       "      <td>2</td>\n",
       "      <td>488.64</td>\n",
       "      <td>1071</td>\n",
       "      <td>77183.60</td>\n",
       "    </tr>\n",
       "    <tr>\n",
       "      <th>loyal_customers</th>\n",
       "      <td>33.61</td>\n",
       "      <td>819</td>\n",
       "      <td>72</td>\n",
       "      <td>6.48</td>\n",
       "      <td>819</td>\n",
       "      <td>63</td>\n",
       "      <td>2864.25</td>\n",
       "      <td>819</td>\n",
       "      <td>124914.53</td>\n",
       "    </tr>\n",
       "    <tr>\n",
       "      <th>need_attention</th>\n",
       "      <td>52.43</td>\n",
       "      <td>187</td>\n",
       "      <td>72</td>\n",
       "      <td>2.33</td>\n",
       "      <td>187</td>\n",
       "      <td>3</td>\n",
       "      <td>897.63</td>\n",
       "      <td>187</td>\n",
       "      <td>12601.83</td>\n",
       "    </tr>\n",
       "    <tr>\n",
       "      <th>new_customers</th>\n",
       "      <td>7.43</td>\n",
       "      <td>42</td>\n",
       "      <td>13</td>\n",
       "      <td>1.00</td>\n",
       "      <td>42</td>\n",
       "      <td>1</td>\n",
       "      <td>388.21</td>\n",
       "      <td>42</td>\n",
       "      <td>3861.00</td>\n",
       "    </tr>\n",
       "    <tr>\n",
       "      <th>potential_loyalists</th>\n",
       "      <td>17.40</td>\n",
       "      <td>484</td>\n",
       "      <td>33</td>\n",
       "      <td>2.01</td>\n",
       "      <td>484</td>\n",
       "      <td>3</td>\n",
       "      <td>1041.22</td>\n",
       "      <td>484</td>\n",
       "      <td>168472.50</td>\n",
       "    </tr>\n",
       "    <tr>\n",
       "      <th>promissing</th>\n",
       "      <td>23.51</td>\n",
       "      <td>94</td>\n",
       "      <td>33</td>\n",
       "      <td>1.00</td>\n",
       "      <td>94</td>\n",
       "      <td>1</td>\n",
       "      <td>294.01</td>\n",
       "      <td>94</td>\n",
       "      <td>1757.55</td>\n",
       "    </tr>\n",
       "  </tbody>\n",
       "</table>\n",
       "</div>"
      ],
      "text/plain": [
       "                    Recency            Frequency            Monetary        \\\n",
       "                       mean count  max      mean count  max     mean count   \n",
       "segment                                                                      \n",
       "about_to_sleep        53.31   352   72      1.16   352    2   471.99   352   \n",
       "at_risk              153.79   593  374      2.88   593    6  1084.54   593   \n",
       "cant_lose            132.97    63  373      8.38    63   34  2796.16    63   \n",
       "champions              6.36   633   13     12.42   633  210  6857.94   633   \n",
       "hibernating          217.61  1071  374      1.10  1071    2   488.64  1071   \n",
       "loyal_customers       33.61   819   72      6.48   819   63  2864.25   819   \n",
       "need_attention        52.43   187   72      2.33   187    3   897.63   187   \n",
       "new_customers          7.43    42   13      1.00    42    1   388.21    42   \n",
       "potential_loyalists   17.40   484   33      2.01   484    3  1041.22   484   \n",
       "promissing            23.51    94   33      1.00    94    1   294.01    94   \n",
       "\n",
       "                                \n",
       "                           max  \n",
       "segment                         \n",
       "about_to_sleep         6207.67  \n",
       "at_risk               44534.30  \n",
       "cant_lose             10254.18  \n",
       "champions            280206.02  \n",
       "hibernating           77183.60  \n",
       "loyal_customers      124914.53  \n",
       "need_attention        12601.83  \n",
       "new_customers          3861.00  \n",
       "potential_loyalists  168472.50  \n",
       "promissing             1757.55  "
      ]
     },
     "execution_count": 36,
     "metadata": {},
     "output_type": "execute_result"
    }
   ],
   "source": [
    "rfm[['segment','Recency','Frequency','Monetary']].groupby('segment').agg(['mean','count','max']).round(2)"
   ]
  },
  {
   "cell_type": "markdown",
   "id": "aa6e6334",
   "metadata": {
    "papermill": {
     "duration": 0.017247,
     "end_time": "2023-01-12T10:31:17.092403",
     "exception": false,
     "start_time": "2023-01-12T10:31:17.075156",
     "status": "completed"
    },
    "tags": []
   },
   "source": [
    "# THE FINALS RESULTS"
   ]
  },
  {
   "cell_type": "markdown",
   "id": "1e5d62d9",
   "metadata": {
    "papermill": {
     "duration": 0.016745,
     "end_time": "2023-01-12T10:31:17.126206",
     "exception": false,
     "start_time": "2023-01-12T10:31:17.109461",
     "status": "completed"
    },
    "tags": []
   },
   "source": [
    "# # we see that the most effective customers is (champions&loyal customers) and there is some customers in ther way to be loyal customers so we need to care about them and some customers need more attention.\n",
    "# # there is customers(hibernating and about to sleep) don't waste your effort and money on them."
   ]
  }
 ],
 "metadata": {
  "kernelspec": {
   "display_name": "Python 3",
   "language": "python",
   "name": "python3"
  },
  "language_info": {
   "codemirror_mode": {
    "name": "ipython",
    "version": 3
   },
   "file_extension": ".py",
   "mimetype": "text/x-python",
   "name": "python",
   "nbconvert_exporter": "python",
   "pygments_lexer": "ipython3",
   "version": "3.7.12"
  },
  "papermill": {
   "default_parameters": {},
   "duration": 165.799495,
   "end_time": "2023-01-12T10:31:18.770200",
   "environment_variables": {},
   "exception": null,
   "input_path": "__notebook__.ipynb",
   "output_path": "__notebook__.ipynb",
   "parameters": {},
   "start_time": "2023-01-12T10:28:32.970705",
   "version": "2.3.4"
  }
 },
 "nbformat": 4,
 "nbformat_minor": 5
}
